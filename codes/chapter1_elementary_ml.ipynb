{
 "cells": [
  {
   "cell_type": "code",
   "execution_count": 1,
   "metadata": {},
   "outputs": [],
   "source": [
    "import pandas as pd\n",
    "import numpy as np"
   ]
  },
  {
   "cell_type": "code",
   "execution_count": 2,
   "metadata": {},
   "outputs": [],
   "source": [
    "ml_tools = pd.DataFrame({'도구종류':['파이썬 인터프리터', '코드 편집기', '통계 분석 및 전처리 도구', '시각화 도구', '머신러닝 프레임워크'],\n",
    "                         '설명': ['파이썬 코드를 해석하고 실행시키기 위한 실행 프로그램', '파이썬 코드를 수정할 때 사용하는 프로그램', '데이터를 로드하고 전처리하기 위한 도구들', \n",
    "                                '데이터의 상태를 파악하기 위해 시각화를 지원하는 도구', '실제 머신러닝 모델을 생성하고 데이터에 적용할 수 있도록 도와주는 도구'],\n",
    "                         '사용도구': ['Anaconda', 'Jupyter, VSCode', 'NumPy, Pandas, SciPy', 'Matplotlib, Seaborn, Plotly', 'Scikit-learn']})"
   ]
  },
  {
   "cell_type": "markdown",
   "metadata": {},
   "source": [
    "### Python ML Tools"
   ]
  },
  {
   "cell_type": "code",
   "execution_count": 3,
   "metadata": {},
   "outputs": [
    {
     "data": {
      "text/html": [
       "<div>\n",
       "<style scoped>\n",
       "    .dataframe tbody tr th:only-of-type {\n",
       "        vertical-align: middle;\n",
       "    }\n",
       "\n",
       "    .dataframe tbody tr th {\n",
       "        vertical-align: top;\n",
       "    }\n",
       "\n",
       "    .dataframe thead th {\n",
       "        text-align: right;\n",
       "    }\n",
       "</style>\n",
       "<table border=\"1\" class=\"dataframe\">\n",
       "  <thead>\n",
       "    <tr style=\"text-align: right;\">\n",
       "      <th></th>\n",
       "      <th>도구종류</th>\n",
       "      <th>설명</th>\n",
       "      <th>사용도구</th>\n",
       "    </tr>\n",
       "  </thead>\n",
       "  <tbody>\n",
       "    <tr>\n",
       "      <th>0</th>\n",
       "      <td>파이썬 인터프리터</td>\n",
       "      <td>파이썬 코드를 해석하고 실행시키기 위한 실행 프로그램</td>\n",
       "      <td>Anaconda</td>\n",
       "    </tr>\n",
       "    <tr>\n",
       "      <th>1</th>\n",
       "      <td>코드 편집기</td>\n",
       "      <td>파이썬 코드를 수정할 때 사용하는 프로그램</td>\n",
       "      <td>Jupyter, VSCode</td>\n",
       "    </tr>\n",
       "    <tr>\n",
       "      <th>2</th>\n",
       "      <td>통계 분석 및 전처리 도구</td>\n",
       "      <td>데이터를 로드하고 전처리하기 위한 도구들</td>\n",
       "      <td>NumPy, Pandas, SciPy</td>\n",
       "    </tr>\n",
       "    <tr>\n",
       "      <th>3</th>\n",
       "      <td>시각화 도구</td>\n",
       "      <td>데이터의 상태를 파악하기 위해 시각화를 지원하는 도구</td>\n",
       "      <td>Matplotlib, Seaborn, Plotly</td>\n",
       "    </tr>\n",
       "    <tr>\n",
       "      <th>4</th>\n",
       "      <td>머신러닝 프레임워크</td>\n",
       "      <td>실제 머신러닝 모델을 생성하고 데이터에 적용할 수 있도록 도와주는 도구</td>\n",
       "      <td>Scikit-learn</td>\n",
       "    </tr>\n",
       "  </tbody>\n",
       "</table>\n",
       "</div>"
      ],
      "text/plain": [
       "             도구종류                                       설명  \\\n",
       "0       파이썬 인터프리터            파이썬 코드를 해석하고 실행시키기 위한 실행 프로그램   \n",
       "1          코드 편집기                  파이썬 코드를 수정할 때 사용하는 프로그램   \n",
       "2  통계 분석 및 전처리 도구                   데이터를 로드하고 전처리하기 위한 도구들   \n",
       "3          시각화 도구            데이터의 상태를 파악하기 위해 시각화를 지원하는 도구   \n",
       "4      머신러닝 프레임워크  실제 머신러닝 모델을 생성하고 데이터에 적용할 수 있도록 도와주는 도구   \n",
       "\n",
       "                          사용도구  \n",
       "0                     Anaconda  \n",
       "1              Jupyter, VSCode  \n",
       "2         NumPy, Pandas, SciPy  \n",
       "3  Matplotlib, Seaborn, Plotly  \n",
       "4                 Scikit-learn  "
      ]
     },
     "execution_count": 3,
     "metadata": {},
     "output_type": "execute_result"
    }
   ],
   "source": [
    "ml_tools"
   ]
  },
  {
   "cell_type": "code",
   "execution_count": null,
   "metadata": {},
   "outputs": [],
   "source": []
  }
 ],
 "metadata": {
  "interpreter": {
   "hash": "5f2dc2c05f9d09bbf8d8b9882d1010be2db21d3925608a6143bf35df14041d06"
  },
  "kernelspec": {
   "display_name": "Python 3.8.8 ('base')",
   "language": "python",
   "name": "python3"
  },
  "language_info": {
   "codemirror_mode": {
    "name": "ipython",
    "version": 3
   },
   "file_extension": ".py",
   "mimetype": "text/x-python",
   "name": "python",
   "nbconvert_exporter": "python",
   "pygments_lexer": "ipython3",
   "version": "3.8.8"
  },
  "orig_nbformat": 4
 },
 "nbformat": 4,
 "nbformat_minor": 2
}
