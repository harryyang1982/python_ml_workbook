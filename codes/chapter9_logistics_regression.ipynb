{
 "cells": [
  {
   "cell_type": "markdown",
   "metadata": {},
   "source": [
    "#### odds ratio: P(X) / (1 - P(X))\n",
    "#### logit function: loge(odds ratio)"
   ]
  },
  {
   "cell_type": "markdown",
   "metadata": {},
   "source": [
    "### Binary Classification"
   ]
  },
  {
   "cell_type": "code",
   "execution_count": 1,
   "metadata": {},
   "outputs": [
    {
     "data": {
      "text/plain": [
       "array([[2, 0],\n",
       "       [1, 3]])"
      ]
     },
     "execution_count": 1,
     "metadata": {},
     "output_type": "execute_result"
    }
   ],
   "source": [
    "from sklearn.metrics import confusion_matrix\n",
    "y_true = [1, 0, 1, 1, 0, 1]\n",
    "y_pred = [0, 0, 1, 1, 0, 1]\n",
    "confusion_matrix(y_true, y_pred)"
   ]
  },
  {
   "cell_type": "code",
   "execution_count": 2,
   "metadata": {},
   "outputs": [
    {
     "data": {
      "text/plain": [
       "(2, 0, 1, 3)"
      ]
     },
     "execution_count": 2,
     "metadata": {},
     "output_type": "execute_result"
    }
   ],
   "source": [
    "tn, fp, fn, tp = confusion_matrix(y_true, y_pred).ravel()\n",
    "(tn, fp, fn, tp)"
   ]
  },
  {
   "cell_type": "markdown",
   "metadata": {},
   "source": [
    "#### accuracy"
   ]
  },
  {
   "cell_type": "code",
   "execution_count": 3,
   "metadata": {},
   "outputs": [
    {
     "data": {
      "text/plain": [
       "0.75"
      ]
     },
     "execution_count": 3,
     "metadata": {},
     "output_type": "execute_result"
    }
   ],
   "source": [
    "import numpy as np\n",
    "from sklearn.metrics import accuracy_score\n",
    "y_pred = np.array([0, 1, 1, 0])\n",
    "y_true = np.array([0, 1, 0, 0])\n",
    "sum(y_true == y_pred) / len(y_true)"
   ]
  },
  {
   "cell_type": "markdown",
   "metadata": {},
   "source": [
    "#### precision, recall, F1 score"
   ]
  },
  {
   "cell_type": "markdown",
   "metadata": {},
   "source": [
    "Precision(PPV) = TP / ( TP + FP)\n",
    "\n",
    "RECALL(TPR) = TP / (TP + FN)\n",
    "\n",
    "F1 = 2 *  precision * recall / (precision + recall)"
   ]
  },
  {
   "cell_type": "code",
   "execution_count": 4,
   "metadata": {},
   "outputs": [],
   "source": [
    "import numpy as np\n",
    "from sklearn.metrics import precision_score\n",
    "from sklearn.metrics import recall_score\n",
    "from sklearn.metrics import f1_score"
   ]
  },
  {
   "cell_type": "code",
   "execution_count": 5,
   "metadata": {},
   "outputs": [],
   "source": [
    "y_pred=np.array([0, 1, 1, 0, 1, 1, 1, 0])\n",
    "y_true=np.array([0, 1, 0, 0, 0, 0, 1, 1])"
   ]
  },
  {
   "cell_type": "code",
   "execution_count": 6,
   "metadata": {},
   "outputs": [
    {
     "data": {
      "text/plain": [
       "0.4"
      ]
     },
     "execution_count": 6,
     "metadata": {},
     "output_type": "execute_result"
    }
   ],
   "source": [
    "precision_score(y_true, y_pred)"
   ]
  },
  {
   "cell_type": "code",
   "execution_count": 7,
   "metadata": {},
   "outputs": [
    {
     "data": {
      "text/plain": [
       "0.6666666666666666"
      ]
     },
     "execution_count": 7,
     "metadata": {},
     "output_type": "execute_result"
    }
   ],
   "source": [
    "recall_score(y_true, y_pred)"
   ]
  },
  {
   "cell_type": "code",
   "execution_count": 8,
   "metadata": {},
   "outputs": [
    {
     "data": {
      "text/plain": [
       "0.5"
      ]
     },
     "execution_count": 8,
     "metadata": {},
     "output_type": "execute_result"
    }
   ],
   "source": [
    "f1_score(y_true, y_pred)"
   ]
  },
  {
   "cell_type": "markdown",
   "metadata": {},
   "source": [
    "## 3. 로지스틱 회귀 구현하기"
   ]
  },
  {
   "cell_type": "code",
   "execution_count": 9,
   "metadata": {},
   "outputs": [],
   "source": [
    "def sigmoid(z):\n",
    "    return 1 / (1 + np.exp(z))\n",
    "\n",
    "def hypothesis_function(x, theta):\n",
    "    z = (np.dot(-x, theta))\n",
    "    return sigmoid(z)\n",
    "\n",
    "def compute_cost(x, y, theta):\n",
    "    m = y.shape[0]\n",
    "    j = (-1.0 / m) * (\n",
    "        y.T.dot(np.log(hypothesis_function(x, theta))) + \\\n",
    "            (1-y).T.dot(np.log(1-hypothesis_function(x, theta))))\n",
    "    \n",
    "    return j\n",
    "\n",
    "def minimize_gradient(x, y, theta, iterations=100000, alpha=0.01):\n",
    "    m = y.size\n",
    "    cost_history = []\n",
    "    theta_history = []\n",
    "    \n",
    "    for _ in range(iterations):\n",
    "        original_theta = theta\n",
    "        for i in range(theta.size):\n",
    "            partial_marginal = x[:, i].reshape(x.shape[0], 1)\n",
    "            delta = hypothesis_function(x, original_theta) - y\n",
    "            grad_i = delta.T.dot(partial_marginal)\n",
    "            \n",
    "            theta[i] = theta[i] - (alpha * grad_i)\n",
    "            \n",
    "        if (_ % 100) == 0:\n",
    "            theta_history.append(theta)\n",
    "            cost_history.append(compute_cost(x, y, theta))\n",
    "            \n",
    "    return theta, np.array(cost_history), np.array(theta_history)\n",
    "\n"
   ]
  },
  {
   "cell_type": "code",
   "execution_count": 14,
   "metadata": {},
   "outputs": [
    {
     "data": {
      "text/html": [
       "<div>\n",
       "<style scoped>\n",
       "    .dataframe tbody tr th:only-of-type {\n",
       "        vertical-align: middle;\n",
       "    }\n",
       "\n",
       "    .dataframe tbody tr th {\n",
       "        vertical-align: top;\n",
       "    }\n",
       "\n",
       "    .dataframe thead th {\n",
       "        text-align: right;\n",
       "    }\n",
       "</style>\n",
       "<table border=\"1\" class=\"dataframe\">\n",
       "  <thead>\n",
       "    <tr style=\"text-align: right;\">\n",
       "      <th></th>\n",
       "      <th>who</th>\n",
       "      <th>Newbie</th>\n",
       "      <th>Age</th>\n",
       "      <th>Gender</th>\n",
       "      <th>Household Income</th>\n",
       "      <th>Sexual Preference</th>\n",
       "      <th>Country</th>\n",
       "      <th>Education Attainment</th>\n",
       "      <th>Major Occupation</th>\n",
       "      <th>Marital Status</th>\n",
       "      <th>Years on Internet</th>\n",
       "    </tr>\n",
       "  </thead>\n",
       "  <tbody>\n",
       "    <tr>\n",
       "      <th>0</th>\n",
       "      <td>id74364</td>\n",
       "      <td>0</td>\n",
       "      <td>54.0</td>\n",
       "      <td>Male</td>\n",
       "      <td>$50-74</td>\n",
       "      <td>Gay male</td>\n",
       "      <td>Ontario</td>\n",
       "      <td>Some College</td>\n",
       "      <td>Computer</td>\n",
       "      <td>Other</td>\n",
       "      <td>4-6 yr</td>\n",
       "    </tr>\n",
       "    <tr>\n",
       "      <th>1</th>\n",
       "      <td>id84505</td>\n",
       "      <td>0</td>\n",
       "      <td>39.0</td>\n",
       "      <td>Female</td>\n",
       "      <td>Over $100</td>\n",
       "      <td>Heterosexual</td>\n",
       "      <td>Sweden</td>\n",
       "      <td>Professional</td>\n",
       "      <td>Other</td>\n",
       "      <td>Other</td>\n",
       "      <td>1-3 yr</td>\n",
       "    </tr>\n",
       "    <tr>\n",
       "      <th>2</th>\n",
       "      <td>id84509</td>\n",
       "      <td>1</td>\n",
       "      <td>49.0</td>\n",
       "      <td>Female</td>\n",
       "      <td>$40-49</td>\n",
       "      <td>Heterosexual</td>\n",
       "      <td>Washington</td>\n",
       "      <td>Some College</td>\n",
       "      <td>Management</td>\n",
       "      <td>Other</td>\n",
       "      <td>Under 6 mo</td>\n",
       "    </tr>\n",
       "    <tr>\n",
       "      <th>3</th>\n",
       "      <td>id87028</td>\n",
       "      <td>1</td>\n",
       "      <td>22.0</td>\n",
       "      <td>Female</td>\n",
       "      <td>$40-49</td>\n",
       "      <td>Heterosexual</td>\n",
       "      <td>Florida</td>\n",
       "      <td>Some College</td>\n",
       "      <td>Computer</td>\n",
       "      <td>Married</td>\n",
       "      <td>6-12 mo</td>\n",
       "    </tr>\n",
       "    <tr>\n",
       "      <th>4</th>\n",
       "      <td>id76087</td>\n",
       "      <td>0</td>\n",
       "      <td>20.0</td>\n",
       "      <td>Male</td>\n",
       "      <td>$30-39</td>\n",
       "      <td>Bisexual</td>\n",
       "      <td>New Jersey</td>\n",
       "      <td>Some College</td>\n",
       "      <td>Education</td>\n",
       "      <td>Single</td>\n",
       "      <td>1-3 yr</td>\n",
       "    </tr>\n",
       "  </tbody>\n",
       "</table>\n",
       "</div>"
      ],
      "text/plain": [
       "       who  Newbie   Age  Gender Household Income Sexual Preference  \\\n",
       "0  id74364       0  54.0    Male           $50-74          Gay male   \n",
       "1  id84505       0  39.0  Female        Over $100      Heterosexual   \n",
       "2  id84509       1  49.0  Female           $40-49      Heterosexual   \n",
       "3  id87028       1  22.0  Female           $40-49      Heterosexual   \n",
       "4  id76087       0  20.0    Male           $30-39          Bisexual   \n",
       "\n",
       "      Country Education Attainment Major Occupation Marital Status  \\\n",
       "0     Ontario         Some College         Computer          Other   \n",
       "1      Sweden         Professional            Other          Other   \n",
       "2  Washington         Some College       Management          Other   \n",
       "3     Florida         Some College         Computer        Married   \n",
       "4  New Jersey         Some College        Education         Single   \n",
       "\n",
       "  Years on Internet  \n",
       "0            4-6 yr  \n",
       "1            1-3 yr  \n",
       "2        Under 6 mo  \n",
       "3           6-12 mo  \n",
       "4            1-3 yr  "
      ]
     },
     "execution_count": 14,
     "metadata": {},
     "output_type": "execute_result"
    }
   ],
   "source": [
    "import pandas as pd\n",
    "\n",
    "data_url = 'http://www-stat.wharton.upenn.edu/~waterman/DataSets/uva.txt'\n",
    "\n",
    "df = pd.read_table(data_url)\n",
    "df.head(5)"
   ]
  },
  {
   "cell_type": "code",
   "execution_count": 15,
   "metadata": {},
   "outputs": [
    {
     "data": {
      "text/plain": [
       "Newbie                    int64\n",
       "Age                     float64\n",
       "Gender                   object\n",
       "Household Income         object\n",
       "Sexual Preference        object\n",
       "Education Attainment     object\n",
       "Major Occupation         object\n",
       "Marital Status           object\n",
       "dtype: object"
      ]
     },
     "execution_count": 15,
     "metadata": {},
     "output_type": "execute_result"
    }
   ],
   "source": [
    "df.pop('who')\n",
    "df.pop('Country')\n",
    "df.pop('Years on Internet')\n",
    "\n",
    "df.dtypes"
   ]
  },
  {
   "cell_type": "code",
   "execution_count": 18,
   "metadata": {},
   "outputs": [
    {
     "data": {
      "text/plain": [
       "Newbie                     int64\n",
       "Age                      float64\n",
       "Gender                  category\n",
       "Household Income        category\n",
       "Sexual Preference       category\n",
       "Education Attainment    category\n",
       "Major Occupation        category\n",
       "Marital Status          category\n",
       "dtype: object"
      ]
     },
     "execution_count": 18,
     "metadata": {},
     "output_type": "execute_result"
    }
   ],
   "source": [
    "category_cols = ['Gender', 'Household Income', 'Sexual Preference', 'Education Attainment',\n",
    "                 'Major Occupation', 'Marital Status']\n",
    "\n",
    "for col in category_cols:\n",
    "    df[col] = df[col].astype('category')\n",
    "    \n",
    "df.dtypes"
   ]
  },
  {
   "cell_type": "code",
   "execution_count": 19,
   "metadata": {},
   "outputs": [
    {
     "data": {
      "text/plain": [
       "(19583, 38)"
      ]
     },
     "execution_count": 19,
     "metadata": {},
     "output_type": "execute_result"
    }
   ],
   "source": [
    "df_onehot = pd.get_dummies(df)\n",
    "df_onehot.shape"
   ]
  },
  {
   "cell_type": "code",
   "execution_count": 20,
   "metadata": {},
   "outputs": [
    {
     "data": {
      "text/html": [
       "<div>\n",
       "<style scoped>\n",
       "    .dataframe tbody tr th:only-of-type {\n",
       "        vertical-align: middle;\n",
       "    }\n",
       "\n",
       "    .dataframe tbody tr th {\n",
       "        vertical-align: top;\n",
       "    }\n",
       "\n",
       "    .dataframe thead th {\n",
       "        text-align: right;\n",
       "    }\n",
       "</style>\n",
       "<table border=\"1\" class=\"dataframe\">\n",
       "  <thead>\n",
       "    <tr style=\"text-align: right;\">\n",
       "      <th></th>\n",
       "      <th>Newbie</th>\n",
       "      <th>Age</th>\n",
       "      <th>Gender_Female</th>\n",
       "      <th>Gender_Male</th>\n",
       "      <th>Household Income_$10-19</th>\n",
       "      <th>Household Income_$20-29</th>\n",
       "      <th>Household Income_$30-39</th>\n",
       "      <th>Household Income_$40-49</th>\n",
       "      <th>Household Income_$50-74</th>\n",
       "      <th>Household Income_$75-99</th>\n",
       "      <th>...</th>\n",
       "      <th>Major Occupation_Education</th>\n",
       "      <th>Major Occupation_Management</th>\n",
       "      <th>Major Occupation_Other</th>\n",
       "      <th>Major Occupation_Professional</th>\n",
       "      <th>Marital Status_Divorced</th>\n",
       "      <th>Marital Status_Married</th>\n",
       "      <th>Marital Status_Other</th>\n",
       "      <th>Marital Status_Separated</th>\n",
       "      <th>Marital Status_Single</th>\n",
       "      <th>Marital Status_Widowed</th>\n",
       "    </tr>\n",
       "  </thead>\n",
       "  <tbody>\n",
       "    <tr>\n",
       "      <th>0</th>\n",
       "      <td>0</td>\n",
       "      <td>54.0</td>\n",
       "      <td>0</td>\n",
       "      <td>1</td>\n",
       "      <td>0</td>\n",
       "      <td>0</td>\n",
       "      <td>0</td>\n",
       "      <td>0</td>\n",
       "      <td>1</td>\n",
       "      <td>0</td>\n",
       "      <td>...</td>\n",
       "      <td>0</td>\n",
       "      <td>0</td>\n",
       "      <td>0</td>\n",
       "      <td>0</td>\n",
       "      <td>0</td>\n",
       "      <td>0</td>\n",
       "      <td>1</td>\n",
       "      <td>0</td>\n",
       "      <td>0</td>\n",
       "      <td>0</td>\n",
       "    </tr>\n",
       "    <tr>\n",
       "      <th>1</th>\n",
       "      <td>0</td>\n",
       "      <td>39.0</td>\n",
       "      <td>1</td>\n",
       "      <td>0</td>\n",
       "      <td>0</td>\n",
       "      <td>0</td>\n",
       "      <td>0</td>\n",
       "      <td>0</td>\n",
       "      <td>0</td>\n",
       "      <td>0</td>\n",
       "      <td>...</td>\n",
       "      <td>0</td>\n",
       "      <td>0</td>\n",
       "      <td>1</td>\n",
       "      <td>0</td>\n",
       "      <td>0</td>\n",
       "      <td>0</td>\n",
       "      <td>1</td>\n",
       "      <td>0</td>\n",
       "      <td>0</td>\n",
       "      <td>0</td>\n",
       "    </tr>\n",
       "    <tr>\n",
       "      <th>2</th>\n",
       "      <td>1</td>\n",
       "      <td>49.0</td>\n",
       "      <td>1</td>\n",
       "      <td>0</td>\n",
       "      <td>0</td>\n",
       "      <td>0</td>\n",
       "      <td>0</td>\n",
       "      <td>1</td>\n",
       "      <td>0</td>\n",
       "      <td>0</td>\n",
       "      <td>...</td>\n",
       "      <td>0</td>\n",
       "      <td>1</td>\n",
       "      <td>0</td>\n",
       "      <td>0</td>\n",
       "      <td>0</td>\n",
       "      <td>0</td>\n",
       "      <td>1</td>\n",
       "      <td>0</td>\n",
       "      <td>0</td>\n",
       "      <td>0</td>\n",
       "    </tr>\n",
       "    <tr>\n",
       "      <th>3</th>\n",
       "      <td>1</td>\n",
       "      <td>22.0</td>\n",
       "      <td>1</td>\n",
       "      <td>0</td>\n",
       "      <td>0</td>\n",
       "      <td>0</td>\n",
       "      <td>0</td>\n",
       "      <td>1</td>\n",
       "      <td>0</td>\n",
       "      <td>0</td>\n",
       "      <td>...</td>\n",
       "      <td>0</td>\n",
       "      <td>0</td>\n",
       "      <td>0</td>\n",
       "      <td>0</td>\n",
       "      <td>0</td>\n",
       "      <td>1</td>\n",
       "      <td>0</td>\n",
       "      <td>0</td>\n",
       "      <td>0</td>\n",
       "      <td>0</td>\n",
       "    </tr>\n",
       "    <tr>\n",
       "      <th>4</th>\n",
       "      <td>0</td>\n",
       "      <td>20.0</td>\n",
       "      <td>0</td>\n",
       "      <td>1</td>\n",
       "      <td>0</td>\n",
       "      <td>0</td>\n",
       "      <td>1</td>\n",
       "      <td>0</td>\n",
       "      <td>0</td>\n",
       "      <td>0</td>\n",
       "      <td>...</td>\n",
       "      <td>1</td>\n",
       "      <td>0</td>\n",
       "      <td>0</td>\n",
       "      <td>0</td>\n",
       "      <td>0</td>\n",
       "      <td>0</td>\n",
       "      <td>0</td>\n",
       "      <td>0</td>\n",
       "      <td>1</td>\n",
       "      <td>0</td>\n",
       "    </tr>\n",
       "    <tr>\n",
       "      <th>...</th>\n",
       "      <td>...</td>\n",
       "      <td>...</td>\n",
       "      <td>...</td>\n",
       "      <td>...</td>\n",
       "      <td>...</td>\n",
       "      <td>...</td>\n",
       "      <td>...</td>\n",
       "      <td>...</td>\n",
       "      <td>...</td>\n",
       "      <td>...</td>\n",
       "      <td>...</td>\n",
       "      <td>...</td>\n",
       "      <td>...</td>\n",
       "      <td>...</td>\n",
       "      <td>...</td>\n",
       "      <td>...</td>\n",
       "      <td>...</td>\n",
       "      <td>...</td>\n",
       "      <td>...</td>\n",
       "      <td>...</td>\n",
       "      <td>...</td>\n",
       "    </tr>\n",
       "    <tr>\n",
       "      <th>19578</th>\n",
       "      <td>0</td>\n",
       "      <td>22.0</td>\n",
       "      <td>0</td>\n",
       "      <td>1</td>\n",
       "      <td>0</td>\n",
       "      <td>0</td>\n",
       "      <td>0</td>\n",
       "      <td>0</td>\n",
       "      <td>0</td>\n",
       "      <td>0</td>\n",
       "      <td>...</td>\n",
       "      <td>1</td>\n",
       "      <td>0</td>\n",
       "      <td>0</td>\n",
       "      <td>0</td>\n",
       "      <td>0</td>\n",
       "      <td>0</td>\n",
       "      <td>0</td>\n",
       "      <td>0</td>\n",
       "      <td>1</td>\n",
       "      <td>0</td>\n",
       "    </tr>\n",
       "    <tr>\n",
       "      <th>19579</th>\n",
       "      <td>0</td>\n",
       "      <td>19.0</td>\n",
       "      <td>0</td>\n",
       "      <td>1</td>\n",
       "      <td>0</td>\n",
       "      <td>0</td>\n",
       "      <td>0</td>\n",
       "      <td>0</td>\n",
       "      <td>0</td>\n",
       "      <td>0</td>\n",
       "      <td>...</td>\n",
       "      <td>1</td>\n",
       "      <td>0</td>\n",
       "      <td>0</td>\n",
       "      <td>0</td>\n",
       "      <td>0</td>\n",
       "      <td>0</td>\n",
       "      <td>0</td>\n",
       "      <td>0</td>\n",
       "      <td>1</td>\n",
       "      <td>0</td>\n",
       "    </tr>\n",
       "    <tr>\n",
       "      <th>19580</th>\n",
       "      <td>0</td>\n",
       "      <td>49.0</td>\n",
       "      <td>1</td>\n",
       "      <td>0</td>\n",
       "      <td>0</td>\n",
       "      <td>0</td>\n",
       "      <td>0</td>\n",
       "      <td>0</td>\n",
       "      <td>1</td>\n",
       "      <td>0</td>\n",
       "      <td>...</td>\n",
       "      <td>1</td>\n",
       "      <td>0</td>\n",
       "      <td>0</td>\n",
       "      <td>0</td>\n",
       "      <td>0</td>\n",
       "      <td>1</td>\n",
       "      <td>0</td>\n",
       "      <td>0</td>\n",
       "      <td>0</td>\n",
       "      <td>0</td>\n",
       "    </tr>\n",
       "    <tr>\n",
       "      <th>19581</th>\n",
       "      <td>1</td>\n",
       "      <td>42.0</td>\n",
       "      <td>1</td>\n",
       "      <td>0</td>\n",
       "      <td>0</td>\n",
       "      <td>0</td>\n",
       "      <td>0</td>\n",
       "      <td>0</td>\n",
       "      <td>1</td>\n",
       "      <td>0</td>\n",
       "      <td>...</td>\n",
       "      <td>0</td>\n",
       "      <td>0</td>\n",
       "      <td>1</td>\n",
       "      <td>0</td>\n",
       "      <td>0</td>\n",
       "      <td>1</td>\n",
       "      <td>0</td>\n",
       "      <td>0</td>\n",
       "      <td>0</td>\n",
       "      <td>0</td>\n",
       "    </tr>\n",
       "    <tr>\n",
       "      <th>19582</th>\n",
       "      <td>0</td>\n",
       "      <td>24.0</td>\n",
       "      <td>1</td>\n",
       "      <td>0</td>\n",
       "      <td>0</td>\n",
       "      <td>0</td>\n",
       "      <td>0</td>\n",
       "      <td>0</td>\n",
       "      <td>1</td>\n",
       "      <td>0</td>\n",
       "      <td>...</td>\n",
       "      <td>0</td>\n",
       "      <td>0</td>\n",
       "      <td>0</td>\n",
       "      <td>0</td>\n",
       "      <td>0</td>\n",
       "      <td>0</td>\n",
       "      <td>0</td>\n",
       "      <td>0</td>\n",
       "      <td>1</td>\n",
       "      <td>0</td>\n",
       "    </tr>\n",
       "  </tbody>\n",
       "</table>\n",
       "<p>19583 rows × 38 columns</p>\n",
       "</div>"
      ],
      "text/plain": [
       "       Newbie   Age  Gender_Female  Gender_Male  Household Income_$10-19  \\\n",
       "0           0  54.0              0            1                        0   \n",
       "1           0  39.0              1            0                        0   \n",
       "2           1  49.0              1            0                        0   \n",
       "3           1  22.0              1            0                        0   \n",
       "4           0  20.0              0            1                        0   \n",
       "...       ...   ...            ...          ...                      ...   \n",
       "19578       0  22.0              0            1                        0   \n",
       "19579       0  19.0              0            1                        0   \n",
       "19580       0  49.0              1            0                        0   \n",
       "19581       1  42.0              1            0                        0   \n",
       "19582       0  24.0              1            0                        0   \n",
       "\n",
       "       Household Income_$20-29  Household Income_$30-39  \\\n",
       "0                            0                        0   \n",
       "1                            0                        0   \n",
       "2                            0                        0   \n",
       "3                            0                        0   \n",
       "4                            0                        1   \n",
       "...                        ...                      ...   \n",
       "19578                        0                        0   \n",
       "19579                        0                        0   \n",
       "19580                        0                        0   \n",
       "19581                        0                        0   \n",
       "19582                        0                        0   \n",
       "\n",
       "       Household Income_$40-49  Household Income_$50-74  \\\n",
       "0                            0                        1   \n",
       "1                            0                        0   \n",
       "2                            1                        0   \n",
       "3                            1                        0   \n",
       "4                            0                        0   \n",
       "...                        ...                      ...   \n",
       "19578                        0                        0   \n",
       "19579                        0                        0   \n",
       "19580                        0                        1   \n",
       "19581                        0                        1   \n",
       "19582                        0                        1   \n",
       "\n",
       "       Household Income_$75-99  ...  Major Occupation_Education  \\\n",
       "0                            0  ...                           0   \n",
       "1                            0  ...                           0   \n",
       "2                            0  ...                           0   \n",
       "3                            0  ...                           0   \n",
       "4                            0  ...                           1   \n",
       "...                        ...  ...                         ...   \n",
       "19578                        0  ...                           1   \n",
       "19579                        0  ...                           1   \n",
       "19580                        0  ...                           1   \n",
       "19581                        0  ...                           0   \n",
       "19582                        0  ...                           0   \n",
       "\n",
       "       Major Occupation_Management  Major Occupation_Other  \\\n",
       "0                                0                       0   \n",
       "1                                0                       1   \n",
       "2                                1                       0   \n",
       "3                                0                       0   \n",
       "4                                0                       0   \n",
       "...                            ...                     ...   \n",
       "19578                            0                       0   \n",
       "19579                            0                       0   \n",
       "19580                            0                       0   \n",
       "19581                            0                       1   \n",
       "19582                            0                       0   \n",
       "\n",
       "       Major Occupation_Professional  Marital Status_Divorced  \\\n",
       "0                                  0                        0   \n",
       "1                                  0                        0   \n",
       "2                                  0                        0   \n",
       "3                                  0                        0   \n",
       "4                                  0                        0   \n",
       "...                              ...                      ...   \n",
       "19578                              0                        0   \n",
       "19579                              0                        0   \n",
       "19580                              0                        0   \n",
       "19581                              0                        0   \n",
       "19582                              0                        0   \n",
       "\n",
       "       Marital Status_Married  Marital Status_Other  Marital Status_Separated  \\\n",
       "0                           0                     1                         0   \n",
       "1                           0                     1                         0   \n",
       "2                           0                     1                         0   \n",
       "3                           1                     0                         0   \n",
       "4                           0                     0                         0   \n",
       "...                       ...                   ...                       ...   \n",
       "19578                       0                     0                         0   \n",
       "19579                       0                     0                         0   \n",
       "19580                       1                     0                         0   \n",
       "19581                       1                     0                         0   \n",
       "19582                       0                     0                         0   \n",
       "\n",
       "       Marital Status_Single  Marital Status_Widowed  \n",
       "0                          0                       0  \n",
       "1                          0                       0  \n",
       "2                          0                       0  \n",
       "3                          0                       0  \n",
       "4                          1                       0  \n",
       "...                      ...                     ...  \n",
       "19578                      1                       0  \n",
       "19579                      1                       0  \n",
       "19580                      0                       0  \n",
       "19581                      0                       0  \n",
       "19582                      1                       0  \n",
       "\n",
       "[19583 rows x 38 columns]"
      ]
     },
     "execution_count": 20,
     "metadata": {},
     "output_type": "execute_result"
    }
   ],
   "source": [
    "df_onehot"
   ]
  },
  {
   "cell_type": "code",
   "execution_count": 22,
   "metadata": {},
   "outputs": [
    {
     "data": {
      "text/plain": [
       "Newbie                                 0\n",
       "Age                                  561\n",
       "Gender_Female                          0\n",
       "Gender_Male                            0\n",
       "Household Income_$10-19                0\n",
       "Household Income_$20-29                0\n",
       "Household Income_$30-39                0\n",
       "Household Income_$40-49                0\n",
       "Household Income_$50-74                0\n",
       "Household Income_$75-99                0\n",
       "Household Income_Over $100             0\n",
       "Household Income_Under $10             0\n",
       "Sexual Preference_Bisexual             0\n",
       "Sexual Preference_Gay male             0\n",
       "Sexual Preference_Heterosexual         0\n",
       "Sexual Preference_Lesbian              0\n",
       "Sexual Preference_Transgender          0\n",
       "Sexual Preference_na                   0\n",
       "Education Attainment_College           0\n",
       "Education Attainment_Doctoral          0\n",
       "Education Attainment_Grammar           0\n",
       "Education Attainment_High School       0\n",
       "Education Attainment_Masters           0\n",
       "Education Attainment_Other             0\n",
       "Education Attainment_Professional      0\n",
       "Education Attainment_Some College      0\n",
       "Education Attainment_Special           0\n",
       "Major Occupation_Computer              0\n",
       "Major Occupation_Education             0\n",
       "Major Occupation_Management            0\n",
       "Major Occupation_Other                 0\n",
       "Major Occupation_Professional          0\n",
       "Marital Status_Divorced                0\n",
       "Marital Status_Married                 0\n",
       "Marital Status_Other                   0\n",
       "Marital Status_Separated               0\n",
       "Marital Status_Single                  0\n",
       "Marital Status_Widowed                 0\n",
       "dtype: int64"
      ]
     },
     "execution_count": 22,
     "metadata": {},
     "output_type": "execute_result"
    }
   ],
   "source": [
    "df_onehot.isnull().sum()"
   ]
  },
  {
   "cell_type": "code",
   "execution_count": 23,
   "metadata": {},
   "outputs": [],
   "source": [
    "df_onehot.loc[pd.isnull(df_onehot['Age']), \"Age\"] = df_onehot['Age'].mean()"
   ]
  },
  {
   "cell_type": "code",
   "execution_count": 25,
   "metadata": {},
   "outputs": [
    {
     "data": {
      "text/plain": [
       "((19583, 1), (19583, 37))"
      ]
     },
     "execution_count": 25,
     "metadata": {},
     "output_type": "execute_result"
    }
   ],
   "source": [
    "x_data = df_onehot.iloc[:, 1:].values\n",
    "y_data = df_onehot.iloc[:, 0].values.reshape(-1, 1)\n",
    "y_data.shape, x_data.shape"
   ]
  },
  {
   "cell_type": "code",
   "execution_count": 26,
   "metadata": {},
   "outputs": [],
   "source": [
    "from sklearn import preprocessing\n",
    "\n",
    "min_max_scaler = preprocessing.MinMaxScaler()\n",
    "x_data = min_max_scaler.fit_transform(x_data)"
   ]
  },
  {
   "cell_type": "code",
   "execution_count": 28,
   "metadata": {},
   "outputs": [
    {
     "data": {
      "text/plain": [
       "((13120, 37), (6463, 37))"
      ]
     },
     "execution_count": 28,
     "metadata": {},
     "output_type": "execute_result"
    }
   ],
   "source": [
    "from sklearn.model_selection import train_test_split\n",
    "\n",
    "X_train, X_test, y_train, y_test = train_test_split(\n",
    "    x_data, y_data, test_size=0.33, random_state=42)\n",
    "\n",
    "X_train.shape, X_test.shape"
   ]
  },
  {
   "cell_type": "code",
   "execution_count": 29,
   "metadata": {},
   "outputs": [
    {
     "data": {
      "text/plain": [
       "LogisticRegression()"
      ]
     },
     "execution_count": 29,
     "metadata": {},
     "output_type": "execute_result"
    }
   ],
   "source": [
    "from sklearn.linear_model import LogisticRegression\n",
    "\n",
    "logreg = LogisticRegression(fit_intercept=True)\n",
    "logreg.fit(X_train, y_train.flatten())"
   ]
  },
  {
   "cell_type": "code",
   "execution_count": 30,
   "metadata": {},
   "outputs": [
    {
     "data": {
      "text/plain": [
       "LogisticRegression(multi_class='warn', solver='warn', tol=0.001)"
      ]
     },
     "execution_count": 30,
     "metadata": {},
     "output_type": "execute_result"
    }
   ],
   "source": [
    "LogisticRegression(C=1.0, class_weight=None, dual=False,\n",
    "                   fit_intercept=True, intercept_scaling=1,\n",
    "                   l1_ratio=None, max_iter=100, multi_class='warn',\n",
    "                   n_jobs=None, penalty='l2', random_state=None,\n",
    "                   solver='warn', tol=0.001, verbose=0,\n",
    "                   warm_start=False)"
   ]
  },
  {
   "cell_type": "code",
   "execution_count": 31,
   "metadata": {},
   "outputs": [
    {
     "data": {
      "text/plain": [
       "array([0, 0, 0, 0, 0])"
      ]
     },
     "execution_count": 31,
     "metadata": {},
     "output_type": "execute_result"
    }
   ],
   "source": [
    "logreg.predict(X_test[:5])"
   ]
  },
  {
   "cell_type": "code",
   "execution_count": 32,
   "metadata": {},
   "outputs": [
    {
     "data": {
      "text/plain": [
       "array([[0.56843257, 0.43156743],\n",
       "       [0.91112573, 0.08887427],\n",
       "       [0.79481084, 0.20518916],\n",
       "       [0.85841562, 0.14158438],\n",
       "       [0.62764603, 0.37235397]])"
      ]
     },
     "execution_count": 32,
     "metadata": {},
     "output_type": "execute_result"
    }
   ],
   "source": [
    "logreg.predict_proba(X_test[:5])"
   ]
  },
  {
   "cell_type": "code",
   "execution_count": 33,
   "metadata": {},
   "outputs": [
    {
     "data": {
      "text/plain": [
       "array([[4487,  275],\n",
       "       [1350,  351]])"
      ]
     },
     "execution_count": 33,
     "metadata": {},
     "output_type": "execute_result"
    }
   ],
   "source": [
    "from sklearn.metrics import confusion_matrix\n",
    "from sklearn.metrics import accuracy_score\n",
    "\n",
    "y_true = y_test.copy()\n",
    "y_pred = logreg.predict(X_test)\n",
    "confusion_matrix(y_true, y_pred)"
   ]
  },
  {
   "cell_type": "code",
   "execution_count": 34,
   "metadata": {},
   "outputs": [
    {
     "data": {
      "text/plain": [
       "0.7485687761101656"
      ]
     },
     "execution_count": 34,
     "metadata": {},
     "output_type": "execute_result"
    }
   ],
   "source": [
    "accuracy_score(y_true, y_pred)"
   ]
  },
  {
   "cell_type": "code",
   "execution_count": null,
   "metadata": {},
   "outputs": [],
   "source": []
  }
 ],
 "metadata": {
  "interpreter": {
   "hash": "5f2dc2c05f9d09bbf8d8b9882d1010be2db21d3925608a6143bf35df14041d06"
  },
  "kernelspec": {
   "display_name": "Python 3.9.12 ('base')",
   "language": "python",
   "name": "python3"
  },
  "language_info": {
   "codemirror_mode": {
    "name": "ipython",
    "version": 3
   },
   "file_extension": ".py",
   "mimetype": "text/x-python",
   "name": "python",
   "nbconvert_exporter": "python",
   "pygments_lexer": "ipython3",
   "version": "3.9.12"
  },
  "orig_nbformat": 4
 },
 "nbformat": 4,
 "nbformat_minor": 2
}
